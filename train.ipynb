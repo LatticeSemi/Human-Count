{
 "cells": [
  {
   "cell_type": "markdown",
   "metadata": {},
   "source": [
    "# Human Count Training using Tensorflow\n"
   ]
  },
  {
   "cell_type": "markdown",
   "metadata": {},
   "source": [
    "##### Click on \"Kernel -> Restart & Run All\" to start"
   ]
  },
  {
   "cell_type": "code",
   "execution_count": 1,
   "metadata": {},
   "outputs": [
    {
     "data": {
      "text/html": [
       "<script>\n",
       "code_show=true;\n",
       "function code_toggle() {\n",
       " if (code_show){\n",
       " $('div.input').hide();\n",
       " } else {\n",
       " $('div.input').show();\n",
       " }\n",
       " code_show = !code_show\n",
       "}\n",
       "$( document ).ready(code_toggle);\n",
       "</script>\n",
       "<form action=\"javascript:code_toggle()\"><input type=\"submit\" value=\"Click here to toggle on/off the raw code.\"></form>"
      ],
      "text/plain": [
       "<IPython.core.display.HTML object>"
      ]
     },
     "execution_count": 1,
     "metadata": {},
     "output_type": "execute_result"
    }
   ],
   "source": [
    "from IPython.display import HTML\n",
    "\n",
    "HTML('''<script>\n",
    "code_show=true;\n",
    "function code_toggle() {\n",
    " if (code_show){\n",
    " $('div.input').hide();\n",
    " } else {\n",
    " $('div.input').show();\n",
    " }\n",
    " code_show = !code_show\n",
    "}\n",
    "$( document ).ready(code_toggle);\n",
    "</script>\n",
    "<form action=\"javascript:code_toggle()\"><input type=\"submit\" value=\"Click here to toggle on/off the raw code.\"></form>''')"
   ]
  },
  {
   "cell_type": "code",
   "execution_count": 2,
   "metadata": {},
   "outputs": [],
   "source": [
    "import yaml\n",
    "import os\n",
    "from collections import OrderedDict \n",
    "config_data = OrderedDict()\n",
    "if 'CONFIG_FILE' not in os.environ:\n",
    "    os.environ['CONFIG_FILE'] = './' #config file path\n",
    "config_file = os.path.join(os.environ['CONFIG_FILE'], \"config.txt\")\n",
    "if os.path.isfile(config_file):\n",
    "    with open(config_file) as fp:\n",
    "        config_data = yaml.load(fp.read(), Loader=yaml.FullLoader)\n",
    "else:\n",
    "    config_data[\"data_path\"] = None\n",
    "    config_data[\"train_path\"] = None\n",
    "    config_data[\"summary_step\"] = \"100\"\n",
    "    config_data[\"checkpoint_step\"] = \"500\"\n",
    "    config_data[\"max_steps\"] = \"250000\""
   ]
  },
  {
   "cell_type": "markdown",
   "metadata": {},
   "source": [
    "### Path to user's dataset\n",
    "#### The volume which is shared by the host to docker environment should contain the dataset and train logs directory.\n",
    "#### Note that the dataset should be in KITTI format. Images and labels should be arranged as follows:\n",
    " - __Training Images:__ 'data_path'/training/images\n",
    " - __Labels:__ 'data_path'/training/labels\n",
    " - __train.txt:__'data_path'/ImageSets/train.txt\n",
    " - __Test Images:__ 'data_path'/test/img\n",
    " - __Test Labels:__ 'data_path'/test/labels\n",
    " \n",
    "#### Click the following \"Select dataset path\" button to select dataset path from your shared directory in docker environment. The path of shared folder in docker environment will same be as that in host machine."
   ]
  },
  {
   "cell_type": "code",
   "execution_count": 3,
   "metadata": {},
   "outputs": [
    {
     "data": {
      "application/vnd.jupyter.widget-view+json": {
       "model_id": "42a7a8e57d73470abe431ec0b8ec283c",
       "version_major": 2,
       "version_minor": 0
      },
      "text/plain": [
       "HBox(children=(Text(value='', layout=Layout(width='30%')), SelectPathButton(description='Select dataset path',…"
      ]
     },
     "metadata": {},
     "output_type": "display_data"
    }
   ],
   "source": [
    "from ipywidgets import widgets\n",
    "from IPython.display import display\n",
    "from tkinter import Tk, filedialog\n",
    "data_dir = None\n",
    "\n",
    "class SelectPathButton(widgets.Button):\n",
    "    \"\"\"A file widget that leverages tkinter.filedialog.\"\"\"\n",
    "    def __init__(self):\n",
    "        super(SelectPathButton, self).__init__(layout=widgets.Layout(width='20%', height='30px'))\n",
    "        \n",
    "        self.description = \"Select dataset path\"\n",
    "        self.on_click(self.select_path)\n",
    "\n",
    "    @staticmethod\n",
    "    def select_path(b):\n",
    "        \"\"\"Generate instance of tkinter.filedialog.\n",
    "\n",
    "        Parameters\n",
    "        ----------\n",
    "        b : obj:\n",
    "            An instance of ipywidgets.widgets.Button \n",
    "        \"\"\"\n",
    "        # Create Tk root\n",
    "        root = Tk()\n",
    "        # Hide the main window\n",
    "        root.withdraw()\n",
    "        # Raise the root to the top of all windows.\n",
    "        root.call('wm', 'attributes', '.', '-topmost', True)\n",
    "        # List of selected fileswill be set to b.value\n",
    "        b.files = filedialog.askdirectory(initialdir = \"/\")\n",
    "        if b.files != ():\n",
    "            global data_dir\n",
    "            data_dir = b.files\n",
    "            path.value = data_dir\n",
    "            config_data[\"data_path\"] = data_dir\n",
    "            with open(config_file, 'w') as outf:\n",
    "                yaml.dump(config_data, outf, default_flow_style=False)\n",
    "                outf.close()\n",
    "        \n",
    "button = SelectPathButton()\n",
    "if config_data[\"data_path\"] is not None:\n",
    "    path = widgets.Text(layout=widgets.Layout(width='30%'), value=config_data[\"data_path\"])\n",
    "    data_dir = config_data[\"data_path\"]\n",
    "else:\n",
    "    path = widgets.Text(layout=widgets.Layout(width='30%'))\n",
    "\n",
    "widgets.HBox([path, button])"
   ]
  },
  {
   "cell_type": "markdown",
   "metadata": {},
   "source": [
    "### Training Configuration and Start Training\n",
    "#### User can customize the training parameters by changing the following values. \n",
    "1. __Train directory:__ The volume which is shared by host to docker environment should contain a train logs directory. Using the \"Select train directory\" button select that path from docker. The path of shared folder in docker environment will same be as that in host machine.\n",
    "2. __Summary steps:__ Number of steps to save summary\n",
    "3. __Checkpoint step:__ Number of steps to save checkpoint\n",
    "4. __Maximum steps:__ Maximum number of batches to run"
   ]
  },
  {
   "cell_type": "code",
   "execution_count": 4,
   "metadata": {},
   "outputs": [
    {
     "data": {
      "application/vnd.jupyter.widget-view+json": {
       "model_id": "e3a6940f10f3414682969504982e2e22",
       "version_major": 2,
       "version_minor": 0
      },
      "text/plain": [
       "HBox(children=(Text(value='', layout=Layout(width='30%')), SelectPathButton(description='Select train director…"
      ]
     },
     "metadata": {},
     "output_type": "display_data"
    }
   ],
   "source": [
    "from ipywidgets import widgets\n",
    "from IPython.display import display\n",
    "from tkinter import Tk, filedialog\n",
    "train_dir = None\n",
    "class SelectPathButton(widgets.Button):\n",
    "    \"\"\"A file widget that leverages tkinter.filedialog.\"\"\"\n",
    "    def __init__(self):\n",
    "        super(SelectPathButton, self).__init__(layout=widgets.Layout(width='20%', height='30px'))\n",
    "        # Create the button.\n",
    "        self.description = \"Select train directory\"\n",
    "        self.on_click(self.select_path)\n",
    "\n",
    "    @staticmethod\n",
    "    def select_path(b):\n",
    "        \"\"\"Generate instance of tkinter.filedialog.\n",
    "\n",
    "        Parameters\n",
    "        ----------\n",
    "        b : obj:\n",
    "            An instance of ipywidgets.widgets.Button \n",
    "        \"\"\"\n",
    "        # Create Tk root\n",
    "        root = Tk()\n",
    "        # Hide the main window\n",
    "        root.withdraw()\n",
    "        # Raise the root to the top of all windows.\n",
    "        root.call('wm', 'attributes', '.', '-topmost', True)\n",
    "        # List of selected fileswill be set to b.value\n",
    "        b.files = filedialog.askdirectory(initialdir = \"/\")\n",
    "        if b.files != ():\n",
    "            global train_dir\n",
    "            train_dir = b.files\n",
    "            train_path.value = train_dir\n",
    "            config_data[\"train_path\"] = train_dir\n",
    "            with open(config_file, 'w') as outf:\n",
    "                yaml.dump(config_data, outf, default_flow_style=False)\n",
    "                outf.close()\n",
    "\n",
    "train_button = SelectPathButton()\n",
    "if config_data[\"train_path\"] is not None:\n",
    "    train_path = widgets.Text(layout=widgets.Layout(width='30%'), value=config_data[\"train_path\"])\n",
    "    train_dir = config_data[\"train_path\"]\n",
    "else:\n",
    "    train_path = widgets.Text(layout=widgets.Layout(width='30%'))\n",
    "\n",
    "widgets.HBox([train_path, train_button])"
   ]
  },
  {
   "cell_type": "code",
   "execution_count": 5,
   "metadata": {},
   "outputs": [
    {
     "data": {
      "application/vnd.jupyter.widget-view+json": {
       "model_id": "8d202b59e6684885adbc2313ab5072e1",
       "version_major": 2,
       "version_minor": 0
      },
      "text/plain": [
       "VBox(children=(HBox(children=(VBox(children=(Text(value='100', description='Summary steps', layout=Layout(widt…"
      ]
     },
     "metadata": {},
     "output_type": "display_data"
    }
   ],
   "source": [
    "import ipywidgets as widgets\n",
    "from IPython.display import display, clear_output\n",
    "import subprocess \n",
    "\n",
    "style = {'description_width': '100px'}\n",
    "layout = {'width': '400px'}\n",
    "\n",
    "summaryStep = widgets.Text(description = 'Summary steps',value = config_data[\"summary_step\"], disabled=False, style=style, layout=layout)\n",
    "checkpointStep = widgets.Text(description = 'Checkpoint Step',value = config_data[\"checkpoint_step\"], disabled=False, style=style, layout=layout)\n",
    "maxSteps = widgets.Text(description = 'Maximum Steps',value = config_data[\"max_steps\"], disabled=False, style=style, layout=layout)\n",
    "gpu_id = widgets.Text(description = 'GPU Id',value = \"\", disabled=False, style=style, layout=layout)\n",
    "\n",
    "run_training_button = widgets.Button(description=\"Run Training\", layout=widgets.Layout(width='20%', height='50px'))\n",
    "training_out = widgets.Output()\n",
    "\n",
    "global summary_step, checkpoint_step, max_steps, gpu\n",
    "summary_step = int(summaryStep.value)\n",
    "checkpoint_step = int(checkpointStep.value)\n",
    "max_steps = int(maxSteps.value)\n",
    "if gpu_id.value != \"\":\n",
    "    gpu = int(gpu_id.value)\n",
    "else:\n",
    "    gpu = -1\n",
    "    \n",
    "def callback_summ(sender):\n",
    "    global summary_step\n",
    "    summary_step = int(summaryStep.value)\n",
    "\n",
    "def callback_ckpt(sender):\n",
    "    global checkpoint_step\n",
    "    checkpoint_step = int(checkpointStep.value)\n",
    "\n",
    "def callback_max(sender):\n",
    "    global max_steps\n",
    "    max_steps = int(maxSteps.value)\n",
    "\n",
    "def callback_gpu(sender):\n",
    "    global gpu\n",
    "    gpu = int(gpu_id.value)\n",
    "\n",
    "def on_button_clicked(_):\n",
    "    with training_out:\n",
    "        global summary_step, checkpoint_step, max_steps, gpu\n",
    "        clear_output()\n",
    "        if train_dir is not None and data_dir is not None:\n",
    "            run_training_button.disabled=True\n",
    "            !cp train.py src/\n",
    "            print('\\033[1m' + \"To stop the running training, click Kernel->Interrupt option from menubar\")\n",
    "            print('\\033[0m') \n",
    "            if gpu >= 0:\n",
    "                !python src/train.py --dataset 'KITTI' --net 'squeezeDet' --data_path $data_dir --train_dir $train_dir --image_set 'train' --summary_step $summary_step --max_steps $max_steps --checkpoint_step $checkpoint_step --gpu $gpu\n",
    "            else:\n",
    "                !python src/train.py --dataset 'KITTI' --net 'squeezeDet' --data_path $data_dir --train_dir $train_dir --image_set 'train' --summary_step $summary_step --max_steps $max_steps --checkpoint_step $checkpoint_step\n",
    "            run_training_button.disabled=False \n",
    "            with open(config_file, 'w') as outf:\n",
    "                config_data[\"summary_step\"] = str(summary_step)\n",
    "                config_data[\"checkpoint_step\"] = str(checkpoint_step)\n",
    "                config_data[\"max_steps\"] = str(max_steps)\n",
    "                yaml.dump(config_data, outf, default_flow_style=False)\n",
    "                outf.close()\n",
    "        else:\n",
    "            print(\"Please select dataset and training directory\")\n",
    "\n",
    "run_training_button.on_click(on_button_clicked)\n",
    "summaryStep.on_submit(callback_summ)\n",
    "checkpointStep.on_submit(callback_ckpt)\n",
    "maxSteps.on_submit(callback_max)\n",
    "gpu_id.on_submit(callback_gpu)\n",
    "\n",
    "widgets.VBox([widgets.HBox([widgets.VBox([summaryStep, checkpointStep, maxSteps, gpu_id]), run_training_button]), training_out])"
   ]
  },
  {
   "cell_type": "markdown",
   "metadata": {},
   "source": [
    "### Training Status\n",
    "Each model uses own metric for checking accuracy of the checkpoint. Here we are using Mean Average Precison metric.\n",
    "#### Mean Average Precision\n",
    "AP (Average precision) is a popular metric in measuring the accuracy of object detectors like Faster R-CNN, SSD, etc. Average precision computes the average precision value for recall value over 0 to 1. __Precision__ measures how accurate is your predictions. i.e. the percentage of your predictions are correct. __Recall__ measures how good you find all the positives.\n",
    "\n",
    "The IoU(Intersection over Union) would be used to determine if a predicted bounding box (BB) is TP(True Positive), FP(False Positive) or FN(False Negative). The TN(True Negative) is not evaluated as each image is assumed to have an object in it.\n",
    "\n",
    "#### Click the below button to calculate the mAP for the test images."
   ]
  },
  {
   "cell_type": "code",
   "execution_count": 6,
   "metadata": {},
   "outputs": [
    {
     "data": {
      "application/vnd.jupyter.widget-view+json": {
       "model_id": "d34bcf645d01471caca3a707e43d4696",
       "version_major": 2,
       "version_minor": 0
      },
      "text/plain": [
       "VBox(children=(Button(description='Mean Average Precision', layout=Layout(height='50px', width='20%'), style=B…"
      ]
     },
     "metadata": {},
     "output_type": "display_data"
    }
   ],
   "source": [
    "import ipywidgets as widgets\n",
    "from IPython.display import display, clear_output\n",
    "import os\n",
    "\n",
    "map_button = widgets.Button(description=\"Mean Average Precision\", layout=widgets.Layout(width='20%', height='50px'))\n",
    "map_out = widgets.Output()\n",
    "\n",
    "def on_button_clicked(_):\n",
    "      with map_out:\n",
    "          clear_output()\n",
    "          if data_dir is not None:\n",
    "              !cp train_det.py src/train.py\n",
    "              if (os.path.exists(os.path.join(data_dir, \"test\"))):\n",
    "                  !rm -rf $data_dir/test/img_out/*\n",
    "                  !rm -rf $data_dir/test/img/*.txt\n",
    "                  ckpt = tf.train.latest_checkpoint(train_dir)\n",
    "                  print(\"Using checkpoint:{}\".format(ckpt))  \n",
    "                  !python ./src/demo.py --mode 'image' --checkpoint $ckpt --input_path \"$data_dir/test/img/*\" --out_dir $data_dir/test/img_out/ --demo_net 'squeezeDet'\n",
    "                  !cp $data_dir/test/img/*.txt mAP/input/detection-results/\n",
    "                  !cp $data_dir/test/labels/*.txt mAP/input/ground-truth/\n",
    "                  !cp $data_dir/test/img/*.jpg mAP/input/images-optional/\n",
    "            \n",
    "                  !python mAP/main.py\n",
    "                  !cp train.py src/train.py\n",
    "              else:\n",
    "                  print(\"Test images not available in dataset directory\")\n",
    "          else:\n",
    "            print(\"Please select dataset directory\")\n",
    "\n",
    "# linking button and function together using a button's method\n",
    "map_button.on_click(on_button_clicked)\n",
    "# displaying button and its output together\n",
    "widgets.VBox([map_button,map_out])"
   ]
  },
  {
   "cell_type": "markdown",
   "metadata": {},
   "source": [
    "#### Click below button to visualize the prediction for all the test images."
   ]
  },
  {
   "cell_type": "code",
   "execution_count": 7,
   "metadata": {},
   "outputs": [
    {
     "data": {
      "application/vnd.jupyter.widget-view+json": {
       "model_id": "40d405aaf3b24cfa93ca48748d70d9b5",
       "version_major": 2,
       "version_minor": 0
      },
      "text/plain": [
       "VBox(children=(Button(description='Mean Average Precision Visualization', layout=Layout(height='50px', width='…"
      ]
     },
     "metadata": {},
     "output_type": "display_data"
    }
   ],
   "source": [
    "import ipywidgets as widgets\n",
    "from IPython.display import display, clear_output\n",
    "import os\n",
    "\n",
    "visualise_button = widgets.Button(description=\"Mean Average Precision Visualization\", layout=widgets.Layout(width='30%', height='50px'))\n",
    "vis_out = widgets.Output()\n",
    "\n",
    "def on_button_clicked(_):\n",
    "      with vis_out:\n",
    "          clear_output()\n",
    "          if (os.path.exists(os.path.join(data_dir, \"test\"))):\n",
    "              !eog mAP/results\n",
    "              !eog mAP/results/images\n",
    "          else:\n",
    "              print(\"Test images not available in dataset directory. No result to visualize\")\n",
    "\n",
    "# linking button and function together using a button's method\n",
    "visualise_button.on_click(on_button_clicked)\n",
    "# displaying button and its output together\n",
    "widgets.VBox([visualise_button,vis_out])"
   ]
  },
  {
   "cell_type": "markdown",
   "metadata": {},
   "source": [
    "#### Tensorboard\n",
    "TensorBoard provides us with a suite of web applications that help us to inspect and understand the TensorFlow runs and graphs. Currently, it provides five types of visualizations: scalars, images, audio, histograms, and graphs."
   ]
  },
  {
   "cell_type": "code",
   "execution_count": 8,
   "metadata": {},
   "outputs": [
    {
     "data": {
      "application/vnd.jupyter.widget-view+json": {
       "model_id": "9567b1e76ebd4966b325fc1033919f5b",
       "version_major": 2,
       "version_minor": 0
      },
      "text/plain": [
       "ToggleButton(value=True, description='Launch Tensorboard', layout=Layout(height='50px', width='20%'))"
      ]
     },
     "metadata": {},
     "output_type": "display_data"
    },
    {
     "name": "stdout",
     "output_type": "stream",
     "text": [
      "\u001b[1mTensorboard will launch at 6006 port. If any process is running on that port please kill it.\n",
      "\u001b[0m\n"
     ]
    }
   ],
   "source": [
    "import ipywidgets as widgets\n",
    "from IPython.display import display, HTML, clear_output\n",
    "import subprocess, os, glob\n",
    "\n",
    "button_descriptions  = {False: \"Stop Tensorboard\", True: \"Launch Tensorboard\"}\n",
    "p = None\n",
    "\n",
    "def button_action(value):\n",
    "    global p\n",
    "    if train_dir is not None:\n",
    "        if button.description == \"Launch Tensorboard\":\n",
    "            owd = os.getcwd()\n",
    "            os.chdir(train_dir)\n",
    "            if [file for file in glob.glob(\"*.ckpt*\")] != []:\n",
    "                os.chdir(owd)\n",
    "                !python src/genpb.py --ckpt_dir $train_dir\n",
    "            else:\n",
    "                os.chdir(owd)\n",
    "                print(\"No ckpt files available in train directory\")\n",
    "                return\n",
    "            os.chdir(train_dir)\n",
    "            if [file for file in glob.glob(\"*.tfevents*\")] != []:\n",
    "                os.chdir(owd)\n",
    "                cmd = [\"tensorboard\", \"--logdir=\" + str(train_dir)]\n",
    "                p = subprocess.Popen(cmd, stdout=subprocess.PIPE, stderr=subprocess.PIPE)\n",
    "                for line in p.stderr:\n",
    "                    if line.decode(\"utf8\").find(\"(Press CTRL+C to quit)\") > 0:\n",
    "                        print(line.decode(\"utf8\").split(\"(Press CTRL+C\")[0])\n",
    "                        state = False\n",
    "                        break\n",
    "                    elif line.decode(\"utf8\").find(\"could not bind to port 6006, it was already in use\") > 0:\n",
    "                        print(\"Port 6006 already in use, kill the process running on it and try again.\")\n",
    "                        state = True\n",
    "                        break\n",
    "                    else:\n",
    "                        print(line.decode(\"utf8\"))\n",
    "                        state = True\n",
    "            else:\n",
    "                print(\"No event file found in train directory\")\n",
    "                state = True\n",
    "        else:\n",
    "            if p is not None:\n",
    "                print(\"Tensorboard stopped\")\n",
    "                p.kill()\n",
    "                state = True\n",
    "        \n",
    "        value.owner.description = button_descriptions[state]\n",
    "    else:\n",
    "        print(\"Please select train directory\")\n",
    "\n",
    "\n",
    "state = True\n",
    "\n",
    "button = widgets.ToggleButton(state, description = button_descriptions[state], layout=widgets.Layout(width='20%', height='50px'))\n",
    "button.observe(button_action, \"value\")\n",
    "\n",
    "display(button)\n",
    "print('\\033[1m' + \"Tensorboard will launch at 6006 port. If any process is running on that port please kill it.\")\n",
    "print('\\033[0m')  "
   ]
  },
  {
   "cell_type": "markdown",
   "metadata": {},
   "source": [
    "### Model Freezing\n",
    "#### Click the below button to generate the frozen pb from checkpoint and graph.pbtxt files. The pb file will easily pass through the sensAI tool. The generated pb file will be copied into the shared train directory so that it can be used in host environment."
   ]
  },
  {
   "cell_type": "code",
   "execution_count": 9,
   "metadata": {},
   "outputs": [
    {
     "data": {
      "application/vnd.jupyter.widget-view+json": {
       "model_id": "6b3fd1e6e9944ecb9f4f4c14c437e40d",
       "version_major": 2,
       "version_minor": 0
      },
      "text/plain": [
       "VBox(children=(Button(description='Model Freezing', layout=Layout(height='50px', width='20%'), style=ButtonSty…"
      ]
     },
     "metadata": {},
     "output_type": "display_data"
    }
   ],
   "source": [
    "import ipywidgets as widgets\n",
    "from IPython.display import display, clear_output\n",
    "import tensorflow as tf\n",
    "import os, glob\n",
    "\n",
    "freeze_button = widgets.Button(description=\"Model Freezing\", layout=widgets.Layout(width='20%', height='50px'))\n",
    "freeze_out = widgets.Output()\n",
    "\n",
    "def on_button_clicked(_):\n",
    "    with freeze_out:\n",
    "        clear_output()\n",
    "        if train_dir is not None:\n",
    "            owd = os.getcwd()\n",
    "            os.environ['owd'] = os.getcwd()\n",
    "            os.chdir(train_dir)\n",
    "            if [file for file in glob.glob(\"*.ckpt*\")] != []:\n",
    "                os.chdir(owd)\n",
    "                !python src/genpb.py --ckpt_dir $train_dir --freeze\n",
    "                os.chdir(train_dir)\n",
    "                if 'SAVE_FILE_PATH' in os.environ:\n",
    "                    !cp model*.pb $SAVE_FILE_PATH\n",
    "                else:\n",
    "                    !cp model*.pb $owd\n",
    "                os.chdir(owd)\n",
    "            else:\n",
    "                print(\"No ckpt files available in train directory\")\n",
    "                os.chdir(owd)\n",
    "                return\n",
    "        else:\n",
    "            print(\"Please select train directory\")\n",
    "             \n",
    "\n",
    "# linking button and function together using a button's method\n",
    "freeze_button.on_click(on_button_clicked)\n",
    "# displaying button and its output together\n",
    "widgets.VBox([freeze_button, freeze_out])"
   ]
  },
  {
   "cell_type": "code",
   "execution_count": null,
   "metadata": {},
   "outputs": [],
   "source": []
  }
 ],
 "metadata": {
  "jupytext": {
   "cell_metadata_filter": "-all",
   "main_language": "python",
   "notebook_metadata_filter": "-all"
  },
  "kernelspec": {
   "display_name": "Python 3",
   "language": "python",
   "name": "python3"
  },
  "language_info": {
   "codemirror_mode": {
    "name": "ipython",
    "version": 3
   },
   "file_extension": ".py",
   "mimetype": "text/x-python",
   "name": "python",
   "nbconvert_exporter": "python",
   "pygments_lexer": "ipython3",
   "version": "3.6.9"
  }
 },
 "nbformat": 4,
 "nbformat_minor": 2
}
